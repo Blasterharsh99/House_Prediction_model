{
 "cells": [
  {
   "cell_type": "code",
   "execution_count": 1,
   "id": "0ff0f7b4-9fb7-4daa-9804-41ba5ac13cc0",
   "metadata": {},
   "outputs": [],
   "source": [
    "import numpy as np\n",
    "import pandas as pd\n",
    "import matplotlib.pyplot as plt\n",
    "import seaborn as sns"
   ]
  },
  {
   "cell_type": "code",
   "execution_count": 2,
   "id": "8bbc5c79-d7a8-4754-8a38-9d1cbcc2f98d",
   "metadata": {},
   "outputs": [],
   "source": [
    "df=pd.read_csv(r'C:\\Users\\harshit.aggarwal\\Downloads\\house-prices-advanced-regression-techniques\\train.csv')"
   ]
  },
  {
   "cell_type": "code",
   "execution_count": 3,
   "id": "c61a4eff-68de-4db8-bed2-c08caf950547",
   "metadata": {},
   "outputs": [],
   "source": [
    "pred_karo=pd.read_csv(r'C:\\Users\\harshit.aggarwal\\Downloads\\house-prices-advanced-regression-techniques\\test.csv')"
   ]
  },
  {
   "cell_type": "code",
   "execution_count": 4,
   "id": "ee3b27e5-71dd-440c-9daf-e7187c1e237a",
   "metadata": {},
   "outputs": [],
   "source": [
    "y=df.SalePrice\n",
    "l=df.copy()\n",
    "df.dropna(axis=0,subset=['SalePrice'],inplace=True)\n",
    "df.drop(['SalePrice'],axis=1,inplace=True)"
   ]
  },
  {
   "cell_type": "code",
   "execution_count": 5,
   "id": "6e6de90c-0b4d-4212-9e08-096dde7870ea",
   "metadata": {},
   "outputs": [
    {
     "name": "stdout",
     "output_type": "stream",
     "text": [
      "LotFrontage     17.739726\n",
      "Alley           93.767123\n",
      "MasVnrType      59.726027\n",
      "MasVnrArea       0.547945\n",
      "BsmtQual         2.534247\n",
      "BsmtCond         2.534247\n",
      "BsmtExposure     2.602740\n",
      "BsmtFinType1     2.534247\n",
      "BsmtFinType2     2.602740\n",
      "Electrical       0.068493\n",
      "FireplaceQu     47.260274\n",
      "GarageType       5.547945\n",
      "GarageYrBlt      5.547945\n",
      "GarageFinish     5.547945\n",
      "GarageQual       5.547945\n",
      "GarageCond       5.547945\n",
      "PoolQC          99.520548\n",
      "Fence           80.753425\n",
      "MiscFeature     96.301370\n",
      "dtype: float64\n"
     ]
    }
   ],
   "source": [
    "missing_cols=df.isnull().sum()\n",
    "print((missing_cols[missing_cols>0]/1460)*100)"
   ]
  },
  {
   "cell_type": "code",
   "execution_count": 6,
   "id": "ac66362a-a00a-4c0b-a09c-9f7503ed4e55",
   "metadata": {},
   "outputs": [],
   "source": [
    "df.drop(['Alley','PoolQC','Fence','MiscFeature','FireplaceQu','MasVnrType'],axis=1,inplace=True)\n",
    "pred_karo.drop(['Alley','PoolQC','Fence','MiscFeature','FireplaceQu','MasVnrType'],axis=1,inplace=True)"
   ]
  },
  {
   "cell_type": "code",
   "execution_count": 7,
   "id": "8c39a98a-a7fa-4737-a0ef-b0e708525b30",
   "metadata": {},
   "outputs": [],
   "source": [
    "from sklearn.model_selection import train_test_split\n",
    "x_train,x_test,y_train,y_test = train_test_split(df,y,random_state=2)"
   ]
  },
  {
   "cell_type": "code",
   "execution_count": 8,
   "id": "c4c6db2a-9912-486f-b3e5-4884b7e243e4",
   "metadata": {},
   "outputs": [],
   "source": [
    "xtrain_cat=x_train.select_dtypes(include=['object'])\n",
    "xtest_cat=x_test.select_dtypes(include=['object'])"
   ]
  },
  {
   "cell_type": "code",
   "execution_count": 9,
   "id": "374b35d4-4f34-463e-acfa-24f5f1d4410b",
   "metadata": {},
   "outputs": [
    {
     "data": {
      "text/html": [
       "<div>\n",
       "<style scoped>\n",
       "    .dataframe tbody tr th:only-of-type {\n",
       "        vertical-align: middle;\n",
       "    }\n",
       "\n",
       "    .dataframe tbody tr th {\n",
       "        vertical-align: top;\n",
       "    }\n",
       "\n",
       "    .dataframe thead th {\n",
       "        text-align: right;\n",
       "    }\n",
       "</style>\n",
       "<table border=\"1\" class=\"dataframe\">\n",
       "  <thead>\n",
       "    <tr style=\"text-align: right;\">\n",
       "      <th></th>\n",
       "      <th>MSZoning</th>\n",
       "      <th>Street</th>\n",
       "      <th>LotShape</th>\n",
       "      <th>LandContour</th>\n",
       "      <th>Utilities</th>\n",
       "      <th>LotConfig</th>\n",
       "      <th>LandSlope</th>\n",
       "      <th>Neighborhood</th>\n",
       "      <th>Condition1</th>\n",
       "      <th>Condition2</th>\n",
       "      <th>...</th>\n",
       "      <th>Electrical</th>\n",
       "      <th>KitchenQual</th>\n",
       "      <th>Functional</th>\n",
       "      <th>GarageType</th>\n",
       "      <th>GarageFinish</th>\n",
       "      <th>GarageQual</th>\n",
       "      <th>GarageCond</th>\n",
       "      <th>PavedDrive</th>\n",
       "      <th>SaleType</th>\n",
       "      <th>SaleCondition</th>\n",
       "    </tr>\n",
       "  </thead>\n",
       "  <tbody>\n",
       "    <tr>\n",
       "      <th>37</th>\n",
       "      <td>RL</td>\n",
       "      <td>Pave</td>\n",
       "      <td>Reg</td>\n",
       "      <td>Lvl</td>\n",
       "      <td>AllPub</td>\n",
       "      <td>Inside</td>\n",
       "      <td>Gtl</td>\n",
       "      <td>NAmes</td>\n",
       "      <td>Norm</td>\n",
       "      <td>Norm</td>\n",
       "      <td>...</td>\n",
       "      <td>SBrkr</td>\n",
       "      <td>TA</td>\n",
       "      <td>Typ</td>\n",
       "      <td>Attchd</td>\n",
       "      <td>Fin</td>\n",
       "      <td>TA</td>\n",
       "      <td>TA</td>\n",
       "      <td>Y</td>\n",
       "      <td>WD</td>\n",
       "      <td>Normal</td>\n",
       "    </tr>\n",
       "    <tr>\n",
       "      <th>1370</th>\n",
       "      <td>RL</td>\n",
       "      <td>Pave</td>\n",
       "      <td>Reg</td>\n",
       "      <td>Lvl</td>\n",
       "      <td>AllPub</td>\n",
       "      <td>Corner</td>\n",
       "      <td>Gtl</td>\n",
       "      <td>OldTown</td>\n",
       "      <td>Artery</td>\n",
       "      <td>Norm</td>\n",
       "      <td>...</td>\n",
       "      <td>SBrkr</td>\n",
       "      <td>TA</td>\n",
       "      <td>Typ</td>\n",
       "      <td>Detchd</td>\n",
       "      <td>Fin</td>\n",
       "      <td>TA</td>\n",
       "      <td>TA</td>\n",
       "      <td>Y</td>\n",
       "      <td>WD</td>\n",
       "      <td>Normal</td>\n",
       "    </tr>\n",
       "    <tr>\n",
       "      <th>418</th>\n",
       "      <td>RL</td>\n",
       "      <td>Pave</td>\n",
       "      <td>Reg</td>\n",
       "      <td>Lvl</td>\n",
       "      <td>AllPub</td>\n",
       "      <td>Inside</td>\n",
       "      <td>Gtl</td>\n",
       "      <td>Edwards</td>\n",
       "      <td>Norm</td>\n",
       "      <td>Norm</td>\n",
       "      <td>...</td>\n",
       "      <td>FuseF</td>\n",
       "      <td>TA</td>\n",
       "      <td>Typ</td>\n",
       "      <td>Detchd</td>\n",
       "      <td>Unf</td>\n",
       "      <td>TA</td>\n",
       "      <td>TA</td>\n",
       "      <td>P</td>\n",
       "      <td>WD</td>\n",
       "      <td>AdjLand</td>\n",
       "    </tr>\n",
       "    <tr>\n",
       "      <th>611</th>\n",
       "      <td>RL</td>\n",
       "      <td>Pave</td>\n",
       "      <td>IR1</td>\n",
       "      <td>Lvl</td>\n",
       "      <td>AllPub</td>\n",
       "      <td>FR2</td>\n",
       "      <td>Gtl</td>\n",
       "      <td>NWAmes</td>\n",
       "      <td>Norm</td>\n",
       "      <td>Norm</td>\n",
       "      <td>...</td>\n",
       "      <td>SBrkr</td>\n",
       "      <td>TA</td>\n",
       "      <td>Typ</td>\n",
       "      <td>Attchd</td>\n",
       "      <td>Unf</td>\n",
       "      <td>TA</td>\n",
       "      <td>TA</td>\n",
       "      <td>Y</td>\n",
       "      <td>WD</td>\n",
       "      <td>Normal</td>\n",
       "    </tr>\n",
       "    <tr>\n",
       "      <th>1212</th>\n",
       "      <td>RL</td>\n",
       "      <td>Pave</td>\n",
       "      <td>Reg</td>\n",
       "      <td>Lvl</td>\n",
       "      <td>AllPub</td>\n",
       "      <td>Inside</td>\n",
       "      <td>Gtl</td>\n",
       "      <td>Edwards</td>\n",
       "      <td>Norm</td>\n",
       "      <td>Norm</td>\n",
       "      <td>...</td>\n",
       "      <td>SBrkr</td>\n",
       "      <td>TA</td>\n",
       "      <td>Typ</td>\n",
       "      <td>Attchd</td>\n",
       "      <td>Unf</td>\n",
       "      <td>TA</td>\n",
       "      <td>TA</td>\n",
       "      <td>N</td>\n",
       "      <td>WD</td>\n",
       "      <td>Normal</td>\n",
       "    </tr>\n",
       "  </tbody>\n",
       "</table>\n",
       "<p>5 rows × 37 columns</p>\n",
       "</div>"
      ],
      "text/plain": [
       "     MSZoning Street LotShape LandContour Utilities LotConfig LandSlope  \\\n",
       "37         RL   Pave      Reg         Lvl    AllPub    Inside       Gtl   \n",
       "1370       RL   Pave      Reg         Lvl    AllPub    Corner       Gtl   \n",
       "418        RL   Pave      Reg         Lvl    AllPub    Inside       Gtl   \n",
       "611        RL   Pave      IR1         Lvl    AllPub       FR2       Gtl   \n",
       "1212       RL   Pave      Reg         Lvl    AllPub    Inside       Gtl   \n",
       "\n",
       "     Neighborhood Condition1 Condition2  ... Electrical KitchenQual  \\\n",
       "37          NAmes       Norm       Norm  ...      SBrkr          TA   \n",
       "1370      OldTown     Artery       Norm  ...      SBrkr          TA   \n",
       "418       Edwards       Norm       Norm  ...      FuseF          TA   \n",
       "611        NWAmes       Norm       Norm  ...      SBrkr          TA   \n",
       "1212      Edwards       Norm       Norm  ...      SBrkr          TA   \n",
       "\n",
       "     Functional GarageType GarageFinish GarageQual GarageCond PavedDrive  \\\n",
       "37          Typ     Attchd          Fin         TA         TA          Y   \n",
       "1370        Typ     Detchd          Fin         TA         TA          Y   \n",
       "418         Typ     Detchd          Unf         TA         TA          P   \n",
       "611         Typ     Attchd          Unf         TA         TA          Y   \n",
       "1212        Typ     Attchd          Unf         TA         TA          N   \n",
       "\n",
       "     SaleType SaleCondition  \n",
       "37         WD        Normal  \n",
       "1370       WD        Normal  \n",
       "418        WD       AdjLand  \n",
       "611        WD        Normal  \n",
       "1212       WD        Normal  \n",
       "\n",
       "[5 rows x 37 columns]"
      ]
     },
     "execution_count": 9,
     "metadata": {},
     "output_type": "execute_result"
    }
   ],
   "source": [
    "xtrain_cat.head()"
   ]
  },
  {
   "cell_type": "code",
   "execution_count": 10,
   "id": "35161049-5ff6-487e-b9ec-8a433a572dfd",
   "metadata": {},
   "outputs": [],
   "source": [
    "pred_cat=pred_karo.select_dtypes(include=['object'])"
   ]
  },
  {
   "cell_type": "code",
   "execution_count": 11,
   "id": "5c3bec8b-3581-446e-b607-5bc873f77c42",
   "metadata": {},
   "outputs": [
    {
     "name": "stdout",
     "output_type": "stream",
     "text": [
      "MSZoning = 5\n",
      "Street = 2\n",
      "LotShape = 4\n",
      "LandContour = 4\n",
      "Utilities = 2\n",
      "LotConfig = 5\n",
      "LandSlope = 3\n",
      "Neighborhood = 25\n",
      "Condition1 = 9\n",
      "Condition2 = 7\n",
      "BldgType = 5\n",
      "HouseStyle = 8\n",
      "RoofStyle = 6\n",
      "RoofMatl = 7\n",
      "Exterior1st = 14\n",
      "Exterior2nd = 16\n",
      "ExterQual = 4\n",
      "ExterCond = 5\n",
      "Foundation = 6\n",
      "BsmtQual = 4\n",
      "BsmtCond = 4\n",
      "BsmtExposure = 4\n",
      "BsmtFinType1 = 6\n",
      "BsmtFinType2 = 6\n",
      "Heating = 6\n",
      "HeatingQC = 5\n",
      "CentralAir = 2\n",
      "Electrical = 4\n",
      "KitchenQual = 4\n",
      "Functional = 7\n",
      "GarageType = 6\n",
      "GarageFinish = 3\n",
      "GarageQual = 5\n",
      "GarageCond = 5\n",
      "PavedDrive = 3\n",
      "SaleType = 9\n",
      "SaleCondition = 6\n"
     ]
    }
   ],
   "source": [
    "for col in xtrain_cat.columns:\n",
    "    print(f\"{col} = {xtrain_cat[col].nunique()}\")"
   ]
  },
  {
   "cell_type": "code",
   "execution_count": 12,
   "id": "69911da6-9c9f-442b-82de-890ba7ecfbe6",
   "metadata": {},
   "outputs": [],
   "source": [
    "cl=['Neighborhood','Exterior1st','Exterior2nd']\n",
    "xtrain_cat.drop(cl,axis=1,inplace=True)\n",
    "xtest_cat.drop(cl,axis=1,inplace=True)\n",
    "pred_karo.drop(cl,axis=1,inplace=True)"
   ]
  },
  {
   "cell_type": "code",
   "execution_count": 13,
   "id": "95c38ba8-f97e-4f5f-a3da-5baf9246a056",
   "metadata": {},
   "outputs": [],
   "source": [
    "good_cols=list(set(xtrain_cat.columns)&set(xtest_cat.columns))\n"
   ]
  },
  {
   "cell_type": "code",
   "execution_count": 14,
   "id": "bd86b0b7-81c6-4b25-a706-de8bc729e79e",
   "metadata": {},
   "outputs": [],
   "source": [
    "from sklearn.preprocessing import OrdinalEncoder\n",
    "my_ord = OrdinalEncoder()\n",
    "xtrain_cat[good_cols]=my_ord.fit_transform(xtrain_cat[good_cols])\n",
    "xtest_cat[good_cols]=my_ord.fit_transform(xtest_cat[good_cols])"
   ]
  },
  {
   "cell_type": "code",
   "execution_count": 15,
   "id": "417546e7-e730-4bb0-9edd-9055108a4548",
   "metadata": {},
   "outputs": [],
   "source": [
    "x_train=x_train.select_dtypes(exclude=['object'])\n",
    "x_test=x_test.select_dtypes(exclude=['object'])\n",
    "from sklearn.impute import SimpleImputer\n",
    "my_imp=SimpleImputer(strategy = 'mean')\n",
    "xtrain_imp=pd.DataFrame(my_imp.fit_transform(x_train))\n",
    "xtest_imp=pd.DataFrame(my_imp.transform(x_test))\n",
    "xtr_cat=pd.DataFrame(my_imp.fit_transform(xtrain_cat))\n",
    "xte_cat=pd.DataFrame(my_imp.transform(xtest_cat))\n",
    "xte_cat.columns=xtest_cat.columns\n",
    "xtr_cat.columns=xtrain_cat.columns\n",
    "xtrain_imp.columns=x_train.columns\n",
    "xtest_imp.columns=x_test.columns"
   ]
  },
  {
   "cell_type": "code",
   "execution_count": 16,
   "id": "78dc82b4-4ccc-40a4-9744-8d68380b0198",
   "metadata": {},
   "outputs": [],
   "source": [
    "xtrain_final = pd.concat([xtr_cat,xtrain_imp],axis=1)\n",
    "xtest_final= pd.concat([xte_cat,xtest_imp],axis=1)"
   ]
  },
  {
   "cell_type": "code",
   "execution_count": 17,
   "id": "ef4cba86-0e8c-488d-b7ab-03be00aa3bc2",
   "metadata": {},
   "outputs": [
    {
     "name": "stdout",
     "output_type": "stream",
     "text": [
      "20448.108\n"
     ]
    }
   ],
   "source": [
    "from sklearn.ensemble import RandomForestRegressor\n",
    "from sklearn.metrics import mean_absolute_error\n",
    "model=RandomForestRegressor(n_estimators=100,random_state=1)\n",
    "model.fit(xtrain_final,y_train)\n",
    "temp_preds=model.predict(xtest_final)\n",
    "print(mean_absolute_error(temp_preds,y_test))"
   ]
  },
  {
   "cell_type": "code",
   "execution_count": 18,
   "id": "9a0dac5f-5925-47d1-91b1-b315fe28b3de",
   "metadata": {},
   "outputs": [
    {
     "name": "stdout",
     "output_type": "stream",
     "text": [
      "23929.857164327343\n"
     ]
    }
   ],
   "source": []
  },
  {
   "cell_type": "code",
   "execution_count": 19,
   "id": "2b569321-ab1c-4cd0-aa16-17208a6285a7",
   "metadata": {},
   "outputs": [],
   "source": [
    "pred_cat[good_cols]=my_ord.fit_transform(pred_cat[good_cols])"
   ]
  },
  {
   "cell_type": "code",
   "execution_count": 20,
   "id": "0cc94694-b6d9-4cec-8218-fd62d7fe14f5",
   "metadata": {},
   "outputs": [],
   "source": [
    "pred_cat.drop(cl,axis=1,inplace=True)"
   ]
  },
  {
   "cell_type": "code",
   "execution_count": 21,
   "id": "0390c85c-2d2a-4b81-bc28-14e4d2b8b24c",
   "metadata": {},
   "outputs": [],
   "source": [
    "pred_num=pred_karo.select_dtypes(exclude=['object'])\n",
    "pred_num_imp=pd.DataFrame(my_imp.fit_transform(pred_num))\n",
    "pred_num_imp.columns=pred_num.columns\n",
    "\n",
    "pred_cat_imp=pd.DataFrame(my_imp.fit_transform(pred_cat))\n",
    "pred_cat_imp.columns=pred_cat.columns\n",
    "pred_final=pd.concat([pred_cat_imp,pred_num_imp],axis=1)"
   ]
  },
  {
   "cell_type": "code",
   "execution_count": 22,
   "id": "92d0ea5b-7733-4f91-96af-d7a08a0a84ec",
   "metadata": {},
   "outputs": [],
   "source": [
    "pred_final=model.predict(pred_final)"
   ]
  },
  {
   "cell_type": "code",
   "execution_count": 23,
   "id": "826f5ff0-27f2-419d-82bb-c507261f0eb7",
   "metadata": {},
   "outputs": [
    {
     "name": "stdout",
     "output_type": "stream",
     "text": [
      "1459\n"
     ]
    }
   ],
   "source": [
    "print(len(pred_final))"
   ]
  },
  {
   "cell_type": "code",
   "execution_count": 24,
   "id": "bd2fc964-6c5e-42a1-8a66-3b27066cdfec",
   "metadata": {},
   "outputs": [],
   "source": [
    "output=pd.DataFrame({'SalePrice':pred_final})\n",
    "output.to_csv('Own_submission.csv',index=True)"
   ]
  },
  {
   "cell_type": "code",
   "execution_count": null,
   "id": "8449ce94-5fef-4bdf-bb47-582f436ba794",
   "metadata": {},
   "outputs": [],
   "source": []
  },
  {
   "cell_type": "code",
   "execution_count": null,
   "id": "9829e9ba-a486-4632-abd9-0608e22253a7",
   "metadata": {},
   "outputs": [],
   "source": []
  }
 ],
 "metadata": {
  "kernelspec": {
   "display_name": "Python 3 (ipykernel)",
   "language": "python",
   "name": "python3"
  },
  "language_info": {
   "codemirror_mode": {
    "name": "ipython",
    "version": 3
   },
   "file_extension": ".py",
   "mimetype": "text/x-python",
   "name": "python",
   "nbconvert_exporter": "python",
   "pygments_lexer": "ipython3",
   "version": "3.9.13"
  }
 },
 "nbformat": 4,
 "nbformat_minor": 5
}
